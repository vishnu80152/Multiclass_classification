{
 "cells": [
  {
   "cell_type": "code",
   "execution_count": 1,
   "metadata": {
    "scrolled": true
   },
   "outputs": [],
   "source": [
    "import cv2\n",
    "import keras"
   ]
  },
  {
   "cell_type": "code",
   "execution_count": 2,
   "metadata": {},
   "outputs": [],
   "source": [
    "import numpy as np\n",
    "CATEGORIES = ['Bears','bike','car','horses','humans','pandas']\n",
    "\n",
    "\n",
    "def image(path):\n",
    "    img = cv2.imread(path, cv2.IMREAD_GRAYSCALE)\n",
    "    new_arr = cv2.resize(img, (60, 60))\n",
    "    new_arr = np.array(new_arr)\n",
    "    new_arr = new_arr.reshape(-1, 60, 60, 1)\n",
    "    return new_arr\n",
    "\n",
    "model = keras.models.load_model('allclasifier.h5')"
   ]
  },
  {
   "cell_type": "code",
   "execution_count": 4,
   "metadata": {},
   "outputs": [
    {
     "name": "stdout",
     "output_type": "stream",
     "text": [
      "1/1 [==============================] - 0s 28ms/step\n",
      "car\n"
     ]
    }
   ],
   "source": [
    "prediction = model.predict([image('pls.jpeg')])\n",
    "print(CATEGORIES[prediction.argmax()])"
   ]
  },
  {
   "cell_type": "code",
   "execution_count": 13,
   "metadata": {},
   "outputs": [
    {
     "name": "stdout",
     "output_type": "stream",
     "text": [
      "1/1 [==============================] - 0s 32ms/step\n",
      "pandas\n"
     ]
    }
   ],
   "source": [
    "prediction = model.predict([image('pan.jpeg')])\n",
    "print(CATEGORIES[prediction.argmax()])"
   ]
  },
  {
   "cell_type": "code",
   "execution_count": 6,
   "metadata": {},
   "outputs": [
    {
     "name": "stdout",
     "output_type": "stream",
     "text": [
      "1/1 [==============================] - 0s 23ms/step\n",
      "bike\n"
     ]
    }
   ],
   "source": [
    "prediction = model.predict([image('ktm.jpeg')])\n",
    "print(CATEGORIES[prediction.argmax()])"
   ]
  },
  {
   "cell_type": "code",
   "execution_count": 7,
   "metadata": {},
   "outputs": [
    {
     "name": "stdout",
     "output_type": "stream",
     "text": [
      "1/1 [==============================] - 0s 22ms/step\n",
      "horses\n"
     ]
    }
   ],
   "source": [
    "prediction = model.predict([image('hrse.jpeg')])\n",
    "print(CATEGORIES[prediction.argmax()])"
   ]
  },
  {
   "cell_type": "code",
   "execution_count": 9,
   "metadata": {},
   "outputs": [
    {
     "name": "stdout",
     "output_type": "stream",
     "text": [
      "1/1 [==============================] - 0s 29ms/step\n",
      "humans\n"
     ]
    }
   ],
   "source": [
    "prediction = model.predict([image('hmn.jpeg')])\n",
    "print(CATEGORIES[prediction.argmax()])"
   ]
  },
  {
   "cell_type": "code",
   "execution_count": 12,
   "metadata": {},
   "outputs": [
    {
     "name": "stdout",
     "output_type": "stream",
     "text": [
      "1/1 [==============================] - 0s 32ms/step\n",
      "bike\n"
     ]
    }
   ],
   "source": [
    "prediction = model.predict([image('br.jpeg')])\n",
    "print(CATEGORIES[prediction.argmax()])"
   ]
  }
 ],
 "metadata": {
  "kernelspec": {
   "display_name": "Python 3",
   "language": "python",
   "name": "python3"
  },
  "language_info": {
   "codemirror_mode": {
    "name": "ipython",
    "version": 3
   },
   "file_extension": ".py",
   "mimetype": "text/x-python",
   "name": "python",
   "nbconvert_exporter": "python",
   "pygments_lexer": "ipython3",
   "version": "3.10.8 (tags/v3.10.8:aaaf517, Oct 11 2022, 16:50:30) [MSC v.1933 64 bit (AMD64)]"
  },
  "vscode": {
   "interpreter": {
    "hash": "4c2c3f571fd9835ecb4671100f0948db3b0fe978d43d251dc81320fcb94220f9"
   }
  }
 },
 "nbformat": 4,
 "nbformat_minor": 2
}
